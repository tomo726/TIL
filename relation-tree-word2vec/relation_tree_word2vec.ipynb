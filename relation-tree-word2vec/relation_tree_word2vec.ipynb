{
 "cells": [
  {
   "cell_type": "markdown",
   "metadata": {},
   "source": [
    "## キーワード関連木の作成"
   ]
  },
  {
   "cell_type": "markdown",
   "metadata": {},
   "source": [
    "### Requirements"
   ]
  },
  {
   "cell_type": "code",
   "execution_count": null,
   "metadata": {},
   "outputs": [],
   "source": [
    "!pip install japanize_matplotlib\n",
    "!pip install networkx\n",
    "!pip install matplotlib\n",
    "!pip install gensim\n",
    "\n",
    "# http://www.cl.ecei.tohoku.ac.jp/~m-suzuki/jawiki_vector/ から\n",
    "# 20170201.tar.bz2 (2017年2月1日版, 1.3GB, 解凍後 2.6GB) をダウンロードしておく"
   ]
  },
  {
   "cell_type": "markdown",
   "metadata": {},
   "source": [
    "### 単語埋め込み表現の取得"
   ]
  },
  {
   "cell_type": "code",
   "execution_count": 2,
   "metadata": {},
   "outputs": [],
   "source": [
    "from gensim.models import KeyedVectors\n",
    "model_dir = './entity_vector.model.bin'\n",
    "# 読み込みに時間がかかる\n",
    "model = KeyedVectors.load_word2vec_format(model_dir, binary=True)"
   ]
  },
  {
   "cell_type": "code",
   "execution_count": 136,
   "metadata": {},
   "outputs": [
    {
     "name": "stdout",
     "output_type": "stream",
     "text": [
      "('[ロジャー・フェデラー]', 0.8127161264419556)\n",
      "('[フアン・マルティン・デル・ポトロ]', 0.812140941619873)\n",
      "('[ノバク・ジョコビッチ]', 0.8057368397712708)\n",
      "('[ラファエル・ナダル]', 0.8028138279914856)\n",
      "('[アンディ・マリー]', 0.7997205257415771)\n"
     ]
    }
   ],
   "source": [
    "results = model.most_similar('[錦織圭]', topn=5)\n",
    "for result in results:\n",
    "    print(result)"
   ]
  },
  {
   "cell_type": "markdown",
   "metadata": {},
   "source": [
    "### 幅優先"
   ]
  },
  {
   "cell_type": "code",
   "execution_count": 144,
   "metadata": {},
   "outputs": [
    {
     "name": "stdout",
     "output_type": "stream",
     "text": [
      "木構造か？ :  True\n",
      "ノード数 :  49\n",
      "単一ノード数 :  49 49\n"
     ]
    }
   ],
   "source": [
    "# jupyterでファイルを開くには File -> Open From Path\n",
    "# print(plt.__file__)\n",
    "import networkx as nx\n",
    "import matplotlib.pyplot as plt\n",
    "# sns.set()の内部でfont familyをいじられる問題と同様に,nxの内部でいじられる\n",
    "import japanize_matplotlib\n",
    "# dequeにより、データの追加を先頭、末尾両方に対してO(1)のコストで実施できる。\n",
    "# 通常のlistだと先頭に追加する場合にO(n)のコスト。\n",
    "from collections import deque\n",
    "\n",
    "\n",
    "keyword = '[集合論]'\n",
    "G = nx.Graph()\n",
    "G.add_nodes_from([keyword])\n",
    "\n",
    "\n",
    "# 幅優先のための queue\n",
    "queue = deque([keyword])\n",
    "# 根からの距離\n",
    "d = {}\n",
    "d[keyword] = 0\n",
    "# queueは随時更新されるため、vocabに履歴を保存\n",
    "vocab = [keyword]\n",
    "max_depth = 6\n",
    "while queue:\n",
    "    parent = queue.popleft()\n",
    "    if d[parent] >= max_depth:\n",
    "        break\n",
    "    children = model.most_similar(parent, topn=5)\n",
    "    for child, prob in children:\n",
    "        if child in vocab:\n",
    "            continue\n",
    "        vocab.append(child)\n",
    "        G.add_nodes_from([child])\n",
    "        G.add_edges_from([(parent, child)])\n",
    "        queue.append(child)\n",
    "        d[child] = d[parent] + 1\n",
    "        \n",
    "\n",
    "nx.nx_agraph.to_agraph(G).draw(keyword + \".png\", prog='fdp', format='png')\n",
    "print(\"木構造か？ : \", nx.is_tree(G))\n",
    "print(\"ノード数 : \", len(G.nodes()))\n",
    "print(\"単一ノード数 : \", len(vocab), len(set(vocab)))"
   ]
  },
  {
   "cell_type": "markdown",
   "metadata": {},
   "source": [
    "### 深さ優先"
   ]
  },
  {
   "cell_type": "code",
   "execution_count": 137,
   "metadata": {},
   "outputs": [
    {
     "name": "stdout",
     "output_type": "stream",
     "text": [
      "木構造か？ :  True\n",
      "ノード数 :  21\n",
      "単一ノード数 :  21 21\n"
     ]
    }
   ],
   "source": [
    "\n",
    "# 再帰的にノード作成\n",
    "vocab = []\n",
    "max_depth = 4\n",
    "def dfs(parent, depth):\n",
    "    # 枝刈りできる部分でも most_similar を呼び出しているので幅優先に比べて遅い\n",
    "    children = model.most_similar(parent, topn=5)\n",
    "    depth += 1\n",
    "    if depth >= max_depth:\n",
    "        return\n",
    "    for child, prob in children:\n",
    "        dfs(child, depth)\n",
    "        if child in vocab:\n",
    "            continue\n",
    "        G.add_nodes_from([child])\n",
    "        G.add_edges_from([(parent, child)])\n",
    "        vocab.append(child)\n",
    "\n",
    "\n",
    "# 木の作成、固有名詞などは[]で囲う\n",
    "# keyword = '集合論'\n",
    "keyword = '[錦織圭]'\n",
    "G = nx.Graph()\n",
    "dfs(keyword, 0)\n",
    "\n",
    "# ネットワークの可視化\n",
    "# matplotlib\n",
    "# nx.draw(G, with_labels=True, font_family=\"IPAexGothic\")\n",
    "# graphviz\n",
    "nx.nx_agraph.to_agraph(G).draw(keyword + \".png\", prog='fdp', format='png')\n",
    "print(\"木構造か？ : \", nx.is_tree(G))\n",
    "print(\"ノード数 : \", len(G.nodes()))\n",
    "print(\"単一ノード数 : \", len(vocab), len(set(vocab)))"
   ]
  }
 ],
 "metadata": {
  "kernelspec": {
   "display_name": "Python 3",
   "language": "python",
   "name": "python3"
  },
  "language_info": {
   "codemirror_mode": {
    "name": "ipython",
    "version": 3
   },
   "file_extension": ".py",
   "mimetype": "text/x-python",
   "name": "python",
   "nbconvert_exporter": "python",
   "pygments_lexer": "ipython3",
   "version": "3.6.5"
  }
 },
 "nbformat": 4,
 "nbformat_minor": 5
}
